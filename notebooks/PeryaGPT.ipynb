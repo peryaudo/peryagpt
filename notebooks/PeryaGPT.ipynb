{
 "cells": [
  {
   "cell_type": "code",
   "execution_count": 1,
   "id": "47e61c30-cb09-4440-bb36-db1d2b0a25ed",
   "metadata": {},
   "outputs": [],
   "source": [
    "import numpy as np\n",
    "import torch\n",
    "import torch.nn as nn\n",
    "from torch.nn import functional as F\n",
    "from tqdm import tqdm\n",
    "import matplotlib.pyplot as plt"
   ]
  },
  {
   "cell_type": "code",
   "execution_count": 2,
   "id": "8736df7c-76cc-4469-8c40-0453b11b56b1",
   "metadata": {},
   "outputs": [],
   "source": [
    "batch_size = 1024\n",
    "block_size = 128\n",
    "\n",
    "vocab_size = 256\n",
    "num_embed = 192\n",
    "num_head = 6\n",
    "num_layer = 6"
   ]
  },
  {
   "cell_type": "markdown",
   "id": "10c671d7-6d43-4558-9a07-c40e6557943e",
   "metadata": {},
   "source": [
    "### Data loader"
   ]
  },
  {
   "cell_type": "code",
   "execution_count": 3,
   "id": "acf8d61d-e4f5-46ae-a169-309eff152769",
   "metadata": {},
   "outputs": [],
   "source": [
    "train = np.memmap(\"train.bin\", dtype=np.uint8, mode=\"r\")"
   ]
  },
  {
   "cell_type": "code",
   "execution_count": 4,
   "id": "5a072a24-7db7-42b1-b827-f41ee7775c8a",
   "metadata": {},
   "outputs": [],
   "source": [
    "def get_batch():\n",
    "    indices = torch.randint(len(train) - block_size, (batch_size,))\n",
    "    X = torch.stack([torch.from_numpy((train[i:i+block_size]).astype(np.int64)) for i in indices]).to('cuda')\n",
    "    Y = torch.stack([torch.from_numpy((train[i+1:i+1+block_size]).astype(np.int64)) for i in indices]).to('cuda')\n",
    "    return X, Y"
   ]
  },
  {
   "cell_type": "markdown",
   "id": "15b12649-41db-4fc3-88e5-e04f10799240",
   "metadata": {},
   "source": [
    "### Model definition"
   ]
  },
  {
   "cell_type": "code",
   "execution_count": 5,
   "id": "c21bb008-6487-4bcb-b868-e427dfb64798",
   "metadata": {},
   "outputs": [],
   "source": [
    "class MlpBlock(nn.Module):\n",
    "    def __init__(self):\n",
    "        super().__init__()\n",
    "        self.fc1 = nn.Linear(num_embed, 4 * num_embed)\n",
    "        self.fc2 = nn.Linear(4 * num_embed, num_embed)\n",
    "        self.gelu = nn.GELU()\n",
    "\n",
    "    def forward(self, x):\n",
    "        return self.fc2(self.gelu(self.fc1(x)))\n",
    "\n",
    "class DecoderBlock(nn.Module):\n",
    "    def __init__(self):\n",
    "        super().__init__()\n",
    "        self.norm1 = nn.LayerNorm(num_embed)\n",
    "        self.attn = nn.MultiheadAttention(num_embed, num_head, batch_first=True)\n",
    "        self.norm2 = nn.LayerNorm(num_embed)\n",
    "        self.mlp = MlpBlock()\n",
    "        self.register_buffer(\"attn_mask\", nn.Transformer.generate_square_subsequent_mask(block_size).to('cuda'))\n",
    "\n",
    "    def forward(self, x):\n",
    "        x_length = x.shape[1]\n",
    "        \n",
    "        normalized_x = self.norm1(x)\n",
    "        x = x + self.attn(normalized_x, normalized_x, normalized_x, attn_mask=self.attn_mask[:x_length, :x_length])[0]\n",
    "        x = x + self.mlp(self.norm2(x))\n",
    "        return x\n",
    "\n",
    "class GPT(nn.Module):\n",
    "    def __init__(self):\n",
    "        super().__init__()\n",
    "        self.token_embedding = nn.Embedding(vocab_size, num_embed)\n",
    "        self.position_embedding = nn.Embedding(block_size, num_embed)\n",
    "        self.blocks = nn.Sequential(*[DecoderBlock() for _ in range(num_layer)])\n",
    "        self.norm = nn.LayerNorm(num_embed)\n",
    "        self.head = nn.Linear(num_embed, vocab_size, bias=False)\n",
    "\n",
    "    def forward(self, x):\n",
    "        x_length = x.shape[1]\n",
    "        positions = torch.arange(0, x_length, dtype=torch.long)[None,:].to('cuda')\n",
    "        token_x = self.token_embedding(x)\n",
    "        position_x = self.position_embedding(positions)\n",
    "        x = token_x + position_x\n",
    "        x = self.blocks(x)\n",
    "        x = self.norm(x)\n",
    "        x = self.head(x)\n",
    "        return x"
   ]
  },
  {
   "cell_type": "code",
   "execution_count": 6,
   "id": "b8e41c0b-e9d8-4cad-b886-a35c7fb212b6",
   "metadata": {},
   "outputs": [
    {
     "data": {
      "text/plain": [
       "b'T\\xcb\\x03Y\\xffz\\xa5\\xa74S\\n\\xac\\x967>\\n\\x96\\xf9\\xa8\\xae\\x14\\x18\"\\x8fwS\\xf5x\\xcd\\xe8\\x15b\\x08\\xeb_i]\\xff(\\x11\\xff\\xec\\x86\\xf5\\x96\\x96\\x93\\x99\\x86F{\\x1f\\tu\\xff\\xfb\\x95O\\xc6\\x8c\\x96 [\\xff\\x98P\\x13\\x9dd\\xb0\\xdc\\xd0\\xdc\\xec\\xf8\\xaf\\x96i\\xa5\\xaf\\x1a\\xbe\\x96\\xd2\\x96\\xff\\xd7\\x9d\\xfa\\xcd\\n\\xea\\xf7\\x88\\xda\\x17\\xfb\\xf0\\x8cnAY\\x87\\xff\\xdbs\\xcb\\xa1\\xa0\\xeb\\x92\\x95\\xcb\\'\\xff/+\\x96\\xdb\\xefy\\xe9\\xfa- \\xdbq\\xd3'"
      ]
     },
     "execution_count": 6,
     "metadata": {},
     "output_type": "execute_result"
    }
   ],
   "source": [
    "x, y = get_batch()\n",
    "model = GPT().to('cuda')\n",
    "output = model(x)\n",
    "bytes(torch.argmax(output, dim=-1)[0])"
   ]
  },
  {
   "cell_type": "code",
   "execution_count": 6,
   "id": "ca784b5c-bc2d-4d87-9658-c4114c631c9b",
   "metadata": {},
   "outputs": [],
   "source": [
    "def calc_loss(logits, target):\n",
    "    return F.cross_entropy(logits.view(-1, logits.size(-1)), target.view(-1))"
   ]
  },
  {
   "cell_type": "markdown",
   "id": "75acb4dd-fd4c-40c4-b62c-0e0e446d12f3",
   "metadata": {},
   "source": [
    "### Implementing learning rate finder"
   ]
  },
  {
   "cell_type": "code",
   "execution_count": 7,
   "id": "8c35aa65-1e3b-4418-8ce8-8608e268f247",
   "metadata": {},
   "outputs": [],
   "source": [
    "model = GPT().to('cuda')\n",
    "optimizer = torch.optim.Adam(model.parameters(), lr=1e-4)\n",
    "scheduler = torch.optim.lr_scheduler.ExponentialLR(optimizer, gamma=1.3)"
   ]
  },
  {
   "cell_type": "code",
   "execution_count": 8,
   "id": "0774fabf-e45c-46b4-8665-e065a96a3df4",
   "metadata": {},
   "outputs": [
    {
     "name": "stdout",
     "output_type": "stream",
     "text": [
      "loss = 3.518911 lr = 0.014619\n"
     ]
    }
   ],
   "source": [
    "min_loss = 1e9\n",
    "lrs = []\n",
    "losses = []\n",
    "while True:\n",
    "    optimizer.zero_grad()\n",
    "    x, y = get_batch()\n",
    "    loss = calc_loss(model(x), y)\n",
    "    current_loss = float(loss)\n",
    "    min_loss = min(min_loss, current_loss)\n",
    "    if min_loss*3 < current_loss:\n",
    "        break\n",
    "    lrs.append(scheduler.get_last_lr()[0])\n",
    "    losses.append(current_loss)\n",
    "    if len(lrs) % 20 == 0:\n",
    "        print(\"loss = %f lr = %f\" % (losses[-1], lrs[-1]))\n",
    "    loss.backward()\n",
    "    optimizer.step()\n",
    "    scheduler.step()"
   ]
  },
  {
   "cell_type": "code",
   "execution_count": 9,
   "id": "0f7d8484-365e-439b-9c2c-d37c553b6512",
   "metadata": {},
   "outputs": [
    {
     "data": {
      "image/png": "[encoded data removed]",
      "text/plain": [
       "<Figure size 640x480 with 1 Axes>"
      ]
     },
     "metadata": {},
     "output_type": "display_data"
    }
   ],
   "source": [
    "plt.plot(lrs, losses)\n",
    "plt.xlabel(\"learning rate\")\n",
    "plt.ylabel(\"loss\")\n",
    "plt.xscale('log')\n",
    "plt.show()"
   ]
  },
  {
   "cell_type": "markdown",
   "id": "de74a2e8-22ac-4389-a372-c92745459019",
   "metadata": {},
   "source": [
    "### Training loop"
   ]
  },
  {
   "cell_type": "code",
   "execution_count": 8,
   "id": "6bf2e54b-afde-4009-bd32-995cd19ae47d",
   "metadata": {},
   "outputs": [],
   "source": [
    "model = GPT().to('cuda')\n",
    "total_steps = 30000\n",
    "optimizer = torch.optim.Adam(model.parameters(), lr=1e-4)\n",
    "scheduler = torch.optim.lr_scheduler.OneCycleLR(optimizer, max_lr=3e-4, total_steps=total_steps)"
   ]
  },
  {
   "cell_type": "code",
   "execution_count": 11,
   "id": "b64c56bc-40c7-4dd9-84c6-8df9c93f129b",
   "metadata": {},
   "outputs": [
    {
     "name": "stderr",
     "output_type": "stream",
     "text": [
      "lr = 0.000000 loss = 1.287202: 100%|██████████████████████████████████████████████████████████████████████████████████████████████| 3978/3978 [20:53<00:00,  3.17it/s]\n"
     ]
    }
   ],
   "source": [
    "for i in (pbar := tqdm(range(26022, total_steps))):\n",
    "    optimizer.zero_grad()\n",
    "    x, y = get_batch()\n",
    "    loss = calc_loss(model(x), y)\n",
    "    loss.backward()\n",
    "    optimizer.step()\n",
    "    scheduler.step()\n",
    "    \n",
    "    pbar.set_description(\"lr = %f loss = %f\" % (scheduler.get_last_lr()[0], loss))\n",
    "    \n",
    "    if i > 0 and i % 3000 == 0:\n",
    "        torch.save({\n",
    "            'step': i,\n",
    "            'model_state_dict': model.state_dict(),\n",
    "            'optimizer_state_dict': optimizer.state_dict(),\n",
    "            'scheduler_state_dict': scheduler.state_dict(),\n",
    "            'loss': loss,\n",
    "            }, \"ckpt-%d\" % i)"
   ]
  },
  {
   "cell_type": "code",
   "execution_count": 12,
   "id": "c70c5ea4-6a03-4ece-8421-cd72bb4911bb",
   "metadata": {},
   "outputs": [],
   "source": [
    "torch.save({\n",
    "    'step': total_steps,\n",
    "    'model_state_dict': model.state_dict(),\n",
    "    'optimizer_state_dict': optimizer.state_dict(),\n",
    "    'scheduler_state_dict': scheduler.state_dict(),\n",
    "    'loss': loss,\n",
    "    }, \"ckpt-%d\" % total_steps)"
   ]
  },
  {
   "cell_type": "code",
   "execution_count": 14,
   "id": "28aeaa72-de3a-43b1-b10f-4a947944df46",
   "metadata": {},
   "outputs": [
    {
     "data": {
      "text/plain": [
       "b'nt sle'"
      ]
     },
     "execution_count": 14,
     "metadata": {},
     "output_type": "execute_result"
    }
   ],
   "source": [
    "# x, y = get_batch()\n",
    "output = model(torch.tensor([c for c in \"articl\".encode(\"utf-8\")])[None,:].to('cuda'))\n",
    "bytes(torch.argmax(output, dim=-1)[0])"
   ]
  },
  {
   "cell_type": "code",
   "execution_count": 17,
   "id": "e8761465-dc7a-4ba7-9b80-acb2ccb8bc3f",
   "metadata": {},
   "outputs": [
    {
     "data": {
      "text/plain": [
       "tensor([104, 101,  32,  97, 101, 114, 101, 108,  32, 115, 116,  32, 111,  97,\n",
       "        115,  32,  97, 111, 114, 110,  32, 105, 110,  32, 116],\n",
       "       device='cuda:0')"
      ]
     },
     "execution_count": 17,
     "metadata": {},
     "output_type": "execute_result"
    }
   ],
   "source": [
    "torch.argmax(output, dim=-1)[0]"
   ]
  },
  {
   "cell_type": "code",
   "execution_count": 28,
   "id": "56ce68ac-c9b3-4efc-a08c-58eea609e98d",
   "metadata": {},
   "outputs": [
    {
     "name": "stdout",
     "output_type": "stream",
     "text": [
      "b\"I'm not a cat, and the song was released on the\"\n"
     ]
    }
   ],
   "source": [
    "cur = [c for c in \"I'm not a cat, \".encode(\"utf-8\")]\n",
    "for i in range(32):\n",
    "    output = model(torch.tensor(cur)[None,:].to('cuda'))\n",
    "    cur.append(int(torch.argmax(output, dim=-1)[0, -1]))\n",
    "print(bytes(cur))"
   ]
  },
  {
   "cell_type": "code",
   "execution_count": 30,
   "id": "c6eb7584-ccec-4995-b09f-c598f411d9a5",
   "metadata": {},
   "outputs": [
    {
     "name": "stdout",
     "output_type": "stream",
     "text": [
      "Murasaki Shikibu is a homeland in Japan, including Kilstone, Wales, Tokyo, Sarah Kanagara, Tophong, King, Janot, and Saunders. T\n"
     ]
    }
   ],
   "source": [
    "cur = [c for c in \"Murasaki Shikibu is\".encode(\"utf-8\")]\n",
    "for i in range(128 - len(cur)):\n",
    "    output = model(torch.tensor(cur)[None,:].to('cuda'))\n",
    "    probs = F.softmax(output[0, -1, :], dim=0)\n",
    "    cur.append(int(torch.multinomial(probs, num_samples=1)))\n",
    "print(bytes(cur).decode(\"utf-8\"))"
   ]
  },
  {
   "cell_type": "code",
   "execution_count": null,
   "id": "f0d58ea6-0d4e-4e64-83a7-501489ea6404",
   "metadata": {},
   "outputs": [],
   "source": []
  },
  {
   "cell_type": "code",
   "execution_count": null,
   "id": "839389cc-64c6-4b34-bdf2-4b4c6e804bc8",
   "metadata": {},
   "outputs": [],
   "source": []
  }
 ],
 "metadata": {
  "kernelspec": {
   "display_name": "Python 3 (ipykernel)",
   "language": "python",
   "name": "python3"
  },
  "language_info": {
   "codemirror_mode": {
    "name": "ipython",
    "version": 3
   },
   "file_extension": ".py",
   "mimetype": "text/x-python",
   "name": "python",
   "nbconvert_exporter": "python",
   "pygments_lexer": "ipython3",
   "version": "3.11.6"
  }
 },
 "nbformat": 4,
 "nbformat_minor": 5
}
