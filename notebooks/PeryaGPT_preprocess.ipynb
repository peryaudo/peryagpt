{
 "cells": [
  {
   "cell_type": "code",
   "execution_count": 1,
   "id": "125a0ef2-5918-4d6a-ae82-5bc4c9cb3716",
   "metadata": {},
   "outputs": [
    {
     "data": {
      "application/vnd.jupyter.widget-view+json": {
       "model_id": "dc7a1c65c89c4adea47cab388973bff7",
       "version_major": 2,
       "version_minor": 0
      },
      "text/plain": [
       "Downloading:   0%|          | 0.00/15.3k [00:00<?, ?B/s]"
      ]
     },
     "metadata": {},
     "output_type": "display_data"
    },
    {
     "data": {
      "application/vnd.jupyter.widget-view+json": {
       "model_id": "2861385f1a3346c19be5fc02b5bb2b37",
       "version_major": 2,
       "version_minor": 0
      },
      "text/plain": [
       "Downloading:   0%|          | 0.00/20.3G [00:00<?, ?B/s]"
      ]
     },
     "metadata": {},
     "output_type": "display_data"
    }
   ],
   "source": [
    "from datasets import load_dataset\n",
    "\n",
    "dataset = load_dataset(\"wikipedia\", \"20220301.en\")"
   ]
  },
  {
   "cell_type": "code",
   "execution_count": 2,
   "id": "d28ae3c7-31bc-467f-965f-7e196bc02cdc",
   "metadata": {},
   "outputs": [],
   "source": [
    "import numpy as np"
   ]
  },
  {
   "cell_type": "code",
   "execution_count": 3,
   "id": "9f249c5f-bc3c-4afe-b77e-d2b11f99d0fe",
   "metadata": {},
   "outputs": [],
   "source": [
    "from tqdm import tqdm"
   ]
  },
  {
   "cell_type": "code",
   "execution_count": 4,
   "id": "96541587-08ec-4d24-aad7-339c080d31cd",
   "metadata": {},
   "outputs": [],
   "source": [
    "dataset = dataset[\"train\"]"
   ]
  },
  {
   "cell_type": "code",
   "execution_count": 5,
   "id": "0953cb92-b200-4623-b935-a259679dacdb",
   "metadata": {},
   "outputs": [],
   "source": [
    "#TODO: train_test_split() to create a split\n",
    "dataset = dataset.shuffle()"
   ]
  },
  {
   "cell_type": "code",
   "execution_count": 6,
   "id": "a3f449e3-2660-4078-8e28-8c35e286c065",
   "metadata": {},
   "outputs": [],
   "source": [
    "def process(example):\n",
    "    tokens = np.frombuffer(example[\"text\"].encode(\"utf-8\"), dtype=np.uint8)\n",
    "    return {\"tokens\": tokens, \"len\": len(tokens)}"
   ]
  },
  {
   "cell_type": "code",
   "execution_count": 8,
   "id": "d92315e4-9210-4829-964f-48f844579dbc",
   "metadata": {},
   "outputs": [
    {
     "data": {
      "application/vnd.jupyter.widget-view+json": {
       "model_id": "05170bb0f1e34b1d8552ba80424d5b40",
       "version_major": 2,
       "version_minor": 0
      },
      "text/plain": [
       "Map:   0%|          | 0/6458670 [00:00<?, ? examples/s]"
      ]
     },
     "metadata": {},
     "output_type": "display_data"
    }
   ],
   "source": [
    "processed_dataset = dataset.map(process)"
   ]
  },
  {
   "cell_type": "code",
   "execution_count": 9,
   "id": "79e0f394-2e29-4eaf-9300-1f4c64e0fba4",
   "metadata": {},
   "outputs": [],
   "source": [
    "array_len = np.sum(processed_dataset[\"len\"], dtype=np.uint64)"
   ]
  },
  {
   "cell_type": "code",
   "execution_count": 10,
   "id": "a859535c-f8f0-47f2-893a-f5dc4581a5ba",
   "metadata": {},
   "outputs": [],
   "source": [
    "array = np.memmap(\"train.bin\", dtype=np.uint8, mode=\"w+\", shape=(array_len,))"
   ]
  },
  {
   "cell_type": "code",
   "execution_count": 11,
   "id": "2d28408d-bdd6-46a4-8342-74d8f22671e6",
   "metadata": {},
   "outputs": [
    {
     "name": "stderr",
     "output_type": "stream",
     "text": [
      "100%|███████████████████████████████████████████████████████████████████████████████████████████████████████████████████| 6458670/6458670 [1:15:19<00:00, 1428.97it/s]\n"
     ]
    }
   ],
   "source": [
    "idx = 0\n",
    "for example in tqdm(processed_dataset):\n",
    "    array[idx : (idx + example[\"len\"])] = example[\"tokens\"]\n",
    "    idx += example[\"len\"]"
   ]
  },
  {
   "cell_type": "code",
   "execution_count": 12,
   "id": "9162f839-5ba1-4727-bab0-f108e91ad8fc",
   "metadata": {},
   "outputs": [],
   "source": [
    "array.flush()"
   ]
  },
  {
   "cell_type": "code",
   "execution_count": 13,
   "id": "ae66a728-9fe7-4b86-a992-ac5c6522eaaf",
   "metadata": {},
   "outputs": [
    {
     "data": {
      "text/plain": [
       "memmap([ 66, 108,  97, 105, 114,  32,  87,  97, 108, 116, 101, 114,  32,\n",
       "         66, 117, 115, 104,  32,  40,  98, 111, 114, 110,  32,  78, 111,\n",
       "        118, 101, 109,  98], dtype=uint8)"
      ]
     },
     "execution_count": 13,
     "metadata": {},
     "output_type": "execute_result"
    }
   ],
   "source": [
    "array[0:30]"
   ]
  },
  {
   "cell_type": "code",
   "execution_count": null,
   "id": "ae033598-8953-4a8d-9913-6268ab6a3c2a",
   "metadata": {},
   "outputs": [],
   "source": []
  }
 ],
 "metadata": {
  "kernelspec": {
   "display_name": "Python 3 (ipykernel)",
   "language": "python",
   "name": "python3"
  },
  "language_info": {
   "codemirror_mode": {
    "name": "ipython",
    "version": 3
   },
   "file_extension": ".py",
   "mimetype": "text/x-python",
   "name": "python",
   "nbconvert_exporter": "python",
   "pygments_lexer": "ipython3",
   "version": "3.11.6"
  }
 },
 "nbformat": 4,
 "nbformat_minor": 5
}
